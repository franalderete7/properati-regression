{
 "cells": [
  {
   "cell_type": "markdown",
   "metadata": {},
   "source": [
    "# Proyecto 3: Predicción de precios de propiedades"
   ]
  },
  {
   "cell_type": "markdown",
   "metadata": {},
   "source": [
    "¡Bienvenidos al tercer proyecto de la carrera de Data Science de Acamica! \n",
    "\n",
    "En este proyecto vamos a seguir trabajando con el dataset de propiedades en venta publicadas en el portal [Properati](www.properati.com.ar). El objetivo en este caso armar nuestros primeros modelos para predecir el precio de las propiedades en dólares.\n",
    "\n",
    "Las columnas que se agregan son:\n",
    "\n",
    "* `barrios_match`: si coincide el barrio publicado con el geográfico vale 1, si no 0.\n",
    "\n",
    "* `PH`, `apartment`, `house`: variables binarias que indican el tipo de propiedad.\n",
    "\n",
    "* dummies de barrios: variables binarias con 1 o 0 según el barrio.\n",
    "\n",
    "La métrica que vamos a usar para medir es RMSE (raíz del error cuadrático medio), cuya fórmula es:\n",
    "\n",
    "$$RMSE = \\sqrt{\\frac{\\sum_{t=1}^n (\\hat y_t - y_t)^2}{n}}$$"
   ]
  },
  {
   "cell_type": "code",
   "execution_count": 136,
   "metadata": {},
   "outputs": [],
   "source": [
    "import pandas as pd\n",
    "import numpy as np\n",
    "pd.set_option('display.float_format', lambda x: '%.3f' % x)\n",
    "path_dataset = 'datos_properati_limpios_model.csv'\n",
    "df = pd.read_csv(path_dataset)"
   ]
  },
  {
   "cell_type": "code",
   "execution_count": 137,
   "metadata": {},
   "outputs": [
    {
     "name": "stdout",
     "output_type": "stream",
     "text": [
      "El dataset que vamos a trabajar aquí tiene 6376 observaciones\n"
     ]
    }
   ],
   "source": [
    "print(\"El dataset que vamos a trabajar aquí tiene {} observaciones\".format(df.shape[0]))"
   ]
  },
  {
   "cell_type": "markdown",
   "metadata": {},
   "source": [
    "El objetivo de este proyecto es poder trabajar en el ajuste de modelos y su posterior evaluación."
   ]
  },
  {
   "cell_type": "markdown",
   "metadata": {},
   "source": [
    "Para empezar vamos a separar el `dataset` en un conjunto de entrenamiento (80%) y un conjunto de test (20%). \n",
    "\n",
    "**Separá el dataset** en `X_train`, `X_test`, `y_train` e `y_test` con el tamaño correspondiente"
   ]
  },
  {
   "cell_type": "code",
   "execution_count": 138,
   "metadata": {},
   "outputs": [],
   "source": [
    "X = df.drop(['price_aprox_usd'], axis=1)\n",
    "y = df['price_aprox_usd']\n",
    "\n",
    "# Realizá la separación a continuación en esta celda\n",
    "\n",
    "from sklearn.model_selection import train_test_split\n",
    "\n",
    "X_train, X_test, y_train, y_test = train_test_split(X, y, test_size=0.20, random_state=42)"
   ]
  },
  {
   "cell_type": "markdown",
   "metadata": {},
   "source": [
    "## Árboles de decisión\n",
    "\n",
    "Lo primero que vamos a hacer es entrenar un árbol de decisión y usar de métrica al `RMSE`. \n",
    "\n",
    "Para poder obtener el **RMSE** vamos a medir el `mean_squared_error` y obtener su raíz cuadrada. \n",
    "\n",
    "**Importá** `DecisionTreeRegressor` desde `sklearn.tree`.  \n",
    "\n",
    "A continuación **entrená** el regresor con el conjunto de training\n"
   ]
  },
  {
   "cell_type": "code",
   "execution_count": 139,
   "metadata": {},
   "outputs": [
    {
     "data": {
      "text/plain": [
       "DecisionTreeRegressor(criterion='mse', max_depth=None, max_features=None,\n",
       "                      max_leaf_nodes=None, min_impurity_decrease=0.0,\n",
       "                      min_impurity_split=None, min_samples_leaf=1,\n",
       "                      min_samples_split=2, min_weight_fraction_leaf=0.0,\n",
       "                      presort=False, random_state=None, splitter='best')"
      ]
     },
     "execution_count": 139,
     "metadata": {},
     "output_type": "execute_result"
    }
   ],
   "source": [
    "# En esta celda cargá el regresor y realizá el entrenamiento\n",
    "\n",
    "from sklearn.tree import DecisionTreeRegressor\n",
    "\n",
    "tree = DecisionTreeRegressor()\n",
    "tree.fit(X_train, y_train)"
   ]
  },
  {
   "cell_type": "markdown",
   "metadata": {},
   "source": [
    "Con el modelo entrenado **realizá la predicción** sobre el conjunto de test `X_test` y guardá el resultado en una variable `y_pred`."
   ]
  },
  {
   "cell_type": "code",
   "execution_count": 140,
   "metadata": {},
   "outputs": [],
   "source": [
    "# Acá realizá la predicción\n",
    "\n",
    "y_pred = tree.predict(X_test)"
   ]
  },
  {
   "cell_type": "markdown",
   "metadata": {},
   "source": [
    "**Calculá el rmse** sacando la raíz cuadrada de `mean_squared_error` entre `y_test` e `y_pred` y **mostrá** el resultado"
   ]
  },
  {
   "cell_type": "code",
   "execution_count": 141,
   "metadata": {},
   "outputs": [
    {
     "name": "stdout",
     "output_type": "stream",
     "text": [
      "Mean Squared Error:  630603684.758846\n",
      "Root Mean Squared Error:  25111.82360480509\n"
     ]
    }
   ],
   "source": [
    "# En esta celda calculá el rmse\n",
    "\n",
    "from sklearn.metrics import mean_squared_error\n",
    "\n",
    "tree_mse = mean_squared_error(y_test, y_pred)\n",
    "tree_rmse = np.sqrt(tree_mse)\n",
    "print('Mean Squared Error: ', tree_mse)\n",
    "print('Root Mean Squared Error: ', tree_rmse)"
   ]
  },
  {
   "cell_type": "markdown",
   "metadata": {},
   "source": [
    "__Analizar el cambio en el RMSE a medida que es más profundo el árbol de decisión, tanto en training como en testing.__\n",
    "\n",
    "Para esto, **iterá** de 5 en 5 en el parámetro `max_depth` y **observá** como impacta en el RMSE. \n",
    "\n",
    "**Creá** dos arreglos `rmses_train` y `rmses_test` para ir guardando los **rmse** de cada profundidad"
   ]
  },
  {
   "cell_type": "code",
   "execution_count": 142,
   "metadata": {},
   "outputs": [
    {
     "name": "stdout",
     "output_type": "stream",
     "text": [
      "Root Mean Squared Errors Train : \n",
      " [21170.403344931623, 15507.091906682095, 7915.433190256811, 2468.55925810657, 675.9552664115744, 526.3339719538154, 526.3339719538154, 526.3339719538154, 526.3339719538154, 526.3339719538154]\n",
      "Root Mean Squared Erros Test : \n",
      " [22247.803452301796, 21629.669002713592, 24258.226518163003, 24929.27659225299, 25148.775029485405, 25270.301896916753, 24996.727212151265, 25147.233171282172, 25259.59846020662, 25104.315400373893]\n"
     ]
    }
   ],
   "source": [
    "values = [5,10,15,20,25,30,35,40,45,50] # Creamos una lista con los diferentes valores a iterar\n",
    "rmses_train =[] # Creamos lista vacia de root mean square error para train\n",
    "rmses_test =[] # Creamos lista vacia de root mean square error para test\n",
    "\n",
    "for i in values:\n",
    "    trees = DecisionTreeRegressor(max_depth=i) # Iteramos sobre la lista de valores que va a tomar el parametro\n",
    "    trees.fit(X_train, y_train) # Entrenamos los arboles\n",
    "    y_train_pred = trees.predict(X_train) # Predecimos sobre datos de entrenamiento\n",
    "    y_test_pred = trees.predict(X_test) # Predecimos sobre datos de testing\n",
    "    rmse_train = np.sqrt(mean_squared_error(y_train, y_train_pred)) # Calculamos root mean square error en train\n",
    "    rmse_test = np.sqrt(mean_squared_error(y_test, y_test_pred)) # Calculamos root mean square error en test\n",
    "    rmses_train.append(rmse_train) # Añadimos los valores de rmse a la lista vacia de rmse para train\n",
    "    rmses_test.append(rmse_test) # Añadimos los valores de rmse a la lista vacia de rmse para test\n",
    "\n",
    "print('Root Mean Squared Errors Train : \\n', rmses_train)\n",
    "print('Root Mean Squared Erros Test : \\n', rmses_test)"
   ]
  },
  {
   "cell_type": "code",
   "execution_count": 143,
   "metadata": {},
   "outputs": [
    {
     "data": {
      "text/plain": [
       "array([22247.8034523 , 21629.66900271, 24258.22651816, 24929.27659225,\n",
       "       25148.77502949, 25270.30189692, 24996.72721215, 25147.23317128,\n",
       "       25259.59846021, 25104.31540037])"
      ]
     },
     "execution_count": 143,
     "metadata": {},
     "output_type": "execute_result"
    }
   ],
   "source": [
    "np.reshape(rmses_train, (10,))\n",
    "np.reshape(rmses_test, (10,))"
   ]
  },
  {
   "cell_type": "markdown",
   "metadata": {},
   "source": [
    "Ahora graficamos los valores que guardamos en los arreglos `rmses_train` y `rmses_test`"
   ]
  },
  {
   "cell_type": "code",
   "execution_count": 144,
   "metadata": {
    "scrolled": true
   },
   "outputs": [
    {
     "data": {
      "image/png": "[encoded data removed]",
      "text/plain": [
       "<Figure size 432x288 with 1 Axes>"
      ]
     },
     "metadata": {
      "needs_background": "light"
     },
     "output_type": "display_data"
    }
   ],
   "source": [
    "import matplotlib.pyplot as plt\n",
    "%matplotlib inline \n",
    "plt.plot(range(1,50, 5), rmses_train, label='RMSE Training')\n",
    "plt.plot(range(1,50, 5), rmses_test, label='RMSE Testing')\n",
    "plt.ylim((0, 30000))\n",
    "plt.legend(loc=\"best\")\n",
    "plt.title(\"RMSE Training vs RMSE Testing para árboles de decisión\")\n",
    "plt.show()"
   ]
  },
  {
   "cell_type": "markdown",
   "metadata": {},
   "source": [
    "Podemos ver aquí como el modelo presenta sobreajuste dado que a mayor complejidad (en este caso, mayor profundidad del árbol) más diferencia entre los resultados de training y testing. También observamos como la curva de testing decrece y luego vuelvo a crecer. El punto donde se minimiza está relacionado con el tradeoff entre sesgo y varianza que vamos a ver en la próxima unidad."
   ]
  },
  {
   "cell_type": "markdown",
   "metadata": {},
   "source": [
    "## KNN"
   ]
  },
  {
   "cell_type": "markdown",
   "metadata": {},
   "source": [
    "**Entrená un knn** y nuevamente medir el **rmse** en el conjunto de testing\n"
   ]
  },
  {
   "cell_type": "code",
   "execution_count": 145,
   "metadata": {},
   "outputs": [],
   "source": [
    "# Realizá el entrenamiento y el cálculo de rmse en esta celda\n",
    "\n",
    "from sklearn.neighbors import KNeighborsRegressor\n",
    "\n",
    "n_neighbors = 3\n",
    "clf = KNeighborsRegressor(n_neighbors=n_neighbors) # Creamos el clasificador con 3 vecinos como parametro"
   ]
  },
  {
   "cell_type": "code",
   "execution_count": 102,
   "metadata": {},
   "outputs": [],
   "source": [
    "# En esta celda usamos Label Encoder para evitar el Value Error: Unkown label type 'continuous'\n",
    "\n",
    "#from sklearn.preprocessing import LabelEncoder\n",
    "#from sklearn import utils\n",
    "\n",
    "#lab_enc = LabelEncoder()\n",
    "#y_train = lab_enc.fit_transform(y_train)\n",
    "#print(y_train)\n",
    "#print(utils.multiclass.type_of_target(y_train))\n",
    "#print(utils.multiclass.type_of_target(y_train.astype('int')))\n",
    "#print(utils.multiclass.type_of_target(y_train))"
   ]
  },
  {
   "cell_type": "code",
   "execution_count": 146,
   "metadata": {},
   "outputs": [
    {
     "data": {
      "text/plain": [
       "KNeighborsRegressor(algorithm='auto', leaf_size=30, metric='minkowski',\n",
       "                    metric_params=None, n_jobs=None, n_neighbors=3, p=2,\n",
       "                    weights='uniform')"
      ]
     },
     "execution_count": 146,
     "metadata": {},
     "output_type": "execute_result"
    }
   ],
   "source": [
    "clf.fit(X_train, y_train) # Entrenamos el regresor"
   ]
  },
  {
   "cell_type": "code",
   "execution_count": 148,
   "metadata": {},
   "outputs": [
    {
     "name": "stdout",
     "output_type": "stream",
     "text": [
      "Mean Squared Error:  630603684.758846\n",
      "Root Mean Squared Error:  25111.82360480509\n"
     ]
    }
   ],
   "source": [
    "clf_mse = mean_squared_error(y_test, y_pred) # Calcuamos mean squared error en test data\n",
    "clf_rmse = np.sqrt(tree_mse) # Calculamos root mean squared error en test data\n",
    "print('Mean Squared Error: ', clf_mse)\n",
    "print('Root Mean Squared Error: ', clf_rmse)"
   ]
  },
  {
   "cell_type": "markdown",
   "metadata": {},
   "source": [
    "__Analizar el cambio en el RMSE a medida que consideramos más vecinos para KNN, tanto en training como en testing.__\n",
    "\n",
    "Para esto, **iterá** incrementando de a uno el parámetro `n_neighbors` y **observá** como impacta en el RMSE. \n",
    "\n",
    "**Creá** dos arreglos `rmses_train` y `rmses_test` para ir guardando los **rmse** de cada profundidad"
   ]
  },
  {
   "cell_type": "code",
   "execution_count": 149,
   "metadata": {},
   "outputs": [
    {
     "name": "stdout",
     "output_type": "stream",
     "text": [
      "Root Mean Squared Errors Train : \n",
      " [717.7083160050084, 13746.009016313237, 16557.178260577828, 17829.292761243214, 18751.379229464594, 19293.814806681385, 19794.717263196573, 20139.78742144739, 20468.656317131932, 20701.786822437127, 20912.32302589446, 21139.143085959997, 21272.332798820524, 21364.85500145764, 21441.85527550086, 21573.81242697147, 21670.194530916495, 21772.495151896972, 21860.188681197473, 21967.906130450498, 22062.75264160703, 22142.01003813332, 22232.704205317248, 22302.815306185767, 22392.327817968937, 22470.937588548288, 22526.678661609505, 22566.54520745387, 22623.424659205648]\n",
      "Root Mean Squared Erros Test : \n",
      " [26314.375047026846, 24378.43157503682, 23324.776048948213, 23028.274549889524, 22733.040368844526, 22731.27025782464, 22620.31310691122, 22634.689482726375, 22608.863498855015, 22568.211996792175, 22479.91578951748, 22442.04603011599, 22457.046840823732, 22566.696958539993, 22566.465187327743, 22525.328717065153, 22483.195042198382, 22497.920299301164, 22527.948815742915, 22537.14265332446, 22518.04362318813, 22500.339007399805, 22502.879609607357, 22512.658675687984, 22563.793549765833, 22650.77574490309, 22659.512020356644, 22704.298804660535, 22730.289491093965]\n"
     ]
    }
   ],
   "source": [
    "# Calculá los cambio en el rmse en esta celda\n",
    "\n",
    "n_neighbors = np.arange(1,30,1) # Creamos una lista con los diferentes valores del parametro n_neighbors a iterar\n",
    "rmses_train =[] # Creamos lista vacia de root mean square error para train\n",
    "rmses_test =[] # Creamos lista vacia de root mean square error para test\n",
    "\n",
    "for i in n_neighbors:\n",
    "    clfs = KNeighborsRegressor(n_neighbors=i) # Iteramos sobre la lista de valores que va a tomar el parametro\n",
    "    clfs.fit(X_train, y_train) # Entrenamos los clasificadores\n",
    "    y_train_pred = clfs.predict(X_train) # Predecimos sobre datos de entrenamiento\n",
    "    y_test_pred = clfs.predict(X_test) # Predecimos sobre datos de testing\n",
    "    rmse_train = np.sqrt(mean_squared_error(y_train, y_train_pred)) # Calculamos root mean square error en train\n",
    "    rmse_test = np.sqrt(mean_squared_error(y_test, y_test_pred)) # Calculamos root mean square error en test\n",
    "    rmses_train.append(rmse_train) # Añadimos los valores de rmse a la lista vacia de rmse para train\n",
    "    rmses_test.append(rmse_test) # Añadimos los valores de rmse a la lista vacia de rmse para test\n",
    "\n",
    "print('Root Mean Squared Errors Train : \\n', rmses_train)\n",
    "print('Root Mean Squared Erros Test : \\n', rmses_test)"
   ]
  },
  {
   "cell_type": "code",
   "execution_count": 150,
   "metadata": {},
   "outputs": [
    {
     "data": {
      "image/png": "[encoded data removed]",
      "text/plain": [
       "<Figure size 432x288 with 1 Axes>"
      ]
     },
     "metadata": {
      "needs_background": "light"
     },
     "output_type": "display_data"
    }
   ],
   "source": [
    "plt.plot(range(1,30, 1), rmses_train, label='RMSE Training')\n",
    "plt.plot(range(1,30, 1), rmses_test, label='RMSE Testing')\n",
    "plt.ylim((0, 30000))\n",
    "plt.legend(loc=\"best\")\n",
    "plt.title(\"RMSE Training vs RMSE Testing para KNN\")\n",
    "plt.show()"
   ]
  },
  {
   "cell_type": "markdown",
   "metadata": {},
   "source": [
    "**Calcular el RMSE promedio del resultado de cross validation para un árbol de decisión. \n",
    "Como parámetros deberás usar:**\n",
    "- 10 folds\n",
    "- profundidad 5\n",
    "- scoring neg_mean_squared_error.\n",
    "\n",
    "El árbol de decisión guardalo en una variable llamada `regressor` para poder reutilizarla luego.\n",
    "\n",
    "Atención: `cross_validation_score` de `scikit-learn` usá la métrica `neg_mean_squared_error` (NMSE) en vez de `mean_square_error` (MSE). \n",
    "\n",
    "`NMSE` es lo mismo que `MSE` pero con un signo negativo. \n",
    "\n",
    "Como nosotros queremos obtener el `MSE` para calcular sobre él el `RMSE`, vamos a definir un método `nmsq2rmse` para hacer esa conversión de `NMSE` a `MSE`\n",
    "."
   ]
  },
  {
   "cell_type": "code",
   "execution_count": 151,
   "metadata": {},
   "outputs": [],
   "source": [
    "def nmsq2rmse(score):\n",
    "    return np.sqrt(-score)"
   ]
  },
  {
   "cell_type": "code",
   "execution_count": 152,
   "metadata": {},
   "outputs": [
    {
     "name": "stdout",
     "output_type": "stream",
     "text": [
      "Scores : [25490.4476678  24627.53384073 25620.84049429 24556.44631123\n",
      " 26155.69865615 27758.45868339 27217.18103422 25941.88045418\n",
      " 25739.95852958 25939.62339214]\n",
      "Promedio : 25904.806906372527\n"
     ]
    }
   ],
   "source": [
    "# Calculá en esta celda los cross_val_score\n",
    "\n",
    "from sklearn.model_selection import cross_val_score\n",
    "\n",
    "regressor = DecisionTreeRegressor()\n",
    "score = cross_val_score(regressor, X_train, y_train, cv=10, scoring='neg_mean_squared_error', n_jobs=5)\n",
    "rmse_scores = nmsq2rmse(score)\n",
    "print('Scores :', rmse_scores)\n",
    "print('Promedio :', rmse_scores.mean())"
   ]
  },
  {
   "cell_type": "markdown",
   "metadata": {},
   "source": [
    "Para ver el resultado final, reentrenamos al regresor y mostramos en un dataframe la comparación entre los valores reales, los predichos y su diferencia"
   ]
  },
  {
   "cell_type": "code",
   "execution_count": 153,
   "metadata": {},
   "outputs": [],
   "source": [
    "regressor.fit(X_train, y_train)\n",
    "y_pred = regressor.predict(X_test)\n",
    "val_real = pd.Series(y_test.values)\n",
    "val_pred = pd.Series(y_pred)"
   ]
  },
  {
   "cell_type": "code",
   "execution_count": 154,
   "metadata": {},
   "outputs": [],
   "source": [
    "predicciones = pd.concat([val_real.rename('Valor real'),val_pred.rename('Valor Pred') ,abs(val_real-val_pred).rename('Dif(+/-)')] ,  axis=1)"
   ]
  },
  {
   "cell_type": "code",
   "execution_count": 155,
   "metadata": {},
   "outputs": [
    {
     "data": {
      "text/html": [
       "<div>\n",
       "<style scoped>\n",
       "    .dataframe tbody tr th:only-of-type {\n",
       "        vertical-align: middle;\n",
       "    }\n",
       "\n",
       "    .dataframe tbody tr th {\n",
       "        vertical-align: top;\n",
       "    }\n",
       "\n",
       "    .dataframe thead th {\n",
       "        text-align: right;\n",
       "    }\n",
       "</style>\n",
       "<table border=\"1\" class=\"dataframe\">\n",
       "  <thead>\n",
       "    <tr style=\"text-align: right;\">\n",
       "      <th></th>\n",
       "      <th>Valor real</th>\n",
       "      <th>Valor Pred</th>\n",
       "      <th>Dif(+/-)</th>\n",
       "    </tr>\n",
       "  </thead>\n",
       "  <tbody>\n",
       "    <tr>\n",
       "      <th>0</th>\n",
       "      <td>80000.000</td>\n",
       "      <td>139000.000</td>\n",
       "      <td>59000.000</td>\n",
       "    </tr>\n",
       "    <tr>\n",
       "      <th>1</th>\n",
       "      <td>128000.000</td>\n",
       "      <td>144000.000</td>\n",
       "      <td>16000.000</td>\n",
       "    </tr>\n",
       "    <tr>\n",
       "      <th>2</th>\n",
       "      <td>150000.000</td>\n",
       "      <td>162000.000</td>\n",
       "      <td>12000.000</td>\n",
       "    </tr>\n",
       "    <tr>\n",
       "      <th>3</th>\n",
       "      <td>85000.000</td>\n",
       "      <td>110000.000</td>\n",
       "      <td>25000.000</td>\n",
       "    </tr>\n",
       "    <tr>\n",
       "      <th>4</th>\n",
       "      <td>135000.000</td>\n",
       "      <td>110000.000</td>\n",
       "      <td>25000.000</td>\n",
       "    </tr>\n",
       "    <tr>\n",
       "      <th>5</th>\n",
       "      <td>135000.000</td>\n",
       "      <td>72000.000</td>\n",
       "      <td>63000.000</td>\n",
       "    </tr>\n",
       "    <tr>\n",
       "      <th>6</th>\n",
       "      <td>68000.000</td>\n",
       "      <td>75000.000</td>\n",
       "      <td>7000.000</td>\n",
       "    </tr>\n",
       "    <tr>\n",
       "      <th>7</th>\n",
       "      <td>110000.000</td>\n",
       "      <td>165000.000</td>\n",
       "      <td>55000.000</td>\n",
       "    </tr>\n",
       "    <tr>\n",
       "      <th>8</th>\n",
       "      <td>134000.000</td>\n",
       "      <td>168000.000</td>\n",
       "      <td>34000.000</td>\n",
       "    </tr>\n",
       "    <tr>\n",
       "      <th>9</th>\n",
       "      <td>110000.000</td>\n",
       "      <td>73000.000</td>\n",
       "      <td>37000.000</td>\n",
       "    </tr>\n",
       "  </tbody>\n",
       "</table>\n",
       "</div>"
      ],
      "text/plain": [
       "   Valor real  Valor Pred  Dif(+/-)\n",
       "0   80000.000  139000.000 59000.000\n",
       "1  128000.000  144000.000 16000.000\n",
       "2  150000.000  162000.000 12000.000\n",
       "3   85000.000  110000.000 25000.000\n",
       "4  135000.000  110000.000 25000.000\n",
       "5  135000.000   72000.000 63000.000\n",
       "6   68000.000   75000.000  7000.000\n",
       "7  110000.000  165000.000 55000.000\n",
       "8  134000.000  168000.000 34000.000\n",
       "9  110000.000   73000.000 37000.000"
      ]
     },
     "execution_count": 155,
     "metadata": {},
     "output_type": "execute_result"
    }
   ],
   "source": [
    "predicciones.head(10)"
   ]
  }
 ],
 "metadata": {
  "kernelspec": {
   "display_name": "Python 3",
   "language": "python",
   "name": "python3"
  },
  "language_info": {
   "codemirror_mode": {
    "name": "ipython",
    "version": 3
   },
   "file_extension": ".py",
   "mimetype": "text/x-python",
   "name": "python",
   "nbconvert_exporter": "python",
   "pygments_lexer": "ipython3",
   "version": "3.7.4"
  }
 },
 "nbformat": 4,
 "nbformat_minor": 2
}
